{
 "cells": [
  {
   "cell_type": "markdown",
   "metadata": {},
   "source": [
    "This is a dataset annotator using SAM. For every image in the datset, it allows the user to mannually draw bounding boxes on images, generate masks, ans convert them into YOLO format for training purposes."
   ]
  },
  {
   "cell_type": "code",
   "execution_count": 7,
   "metadata": {},
   "outputs": [],
   "source": [
    "import cv2\n",
    "import numpy as np\n",
    "from segment_anything import sam_model_registry, SamPredictor, SamAutomaticMaskGenerator\n",
    "import torch\n",
    "import random\n",
    "from matplotlib import pyplot as plt"
   ]
  },
  {
   "cell_type": "code",
   "execution_count": 8,
   "metadata": {},
   "outputs": [],
   "source": [
    "def apply_masks(img, masks):\n",
    "    img = img.copy()\n",
    "    for mask in masks:\n",
    "        img[mask] = 255\n",
    "    return img"
   ]
  },
  {
   "cell_type": "code",
   "execution_count": 9,
   "metadata": {},
   "outputs": [
    {
     "name": "stdout",
     "output_type": "stream",
     "text": [
      "Select a ROI and then press SPACE or ENTER button!\n",
      "Cancel the selection process by pressing c button!\n"
     ]
    }
   ],
   "source": [
    "img = cv2.imread(\"/home/nirshal/Downloads/car and bike.jpeg\")\n",
    "r = {}\n",
    "while(True):\n",
    "    label = input(\"Enter the label for the mask (exit to move to net image): \")\n",
    "\n",
    "    if label == 'exit':\n",
    "        break\n",
    "\n",
    "    if label not in r:\n",
    "        r[label] = {\"bounding_box\": [], \"masks\": []}\n",
    "\n",
    "    \n",
    "    while True:\n",
    "        bbox = cv2.selectROI(\"Interactive Menu\", img)\n",
    "    \n",
    "        convert = [bbox[0], bbox[1], bbox[0]+bbox[2], bbox[1]+bbox[3]]\n",
    "        r[label][\"bounding_box\"].append(np.asarray(convert))\n",
    "        cv2.destroyAllWindows()\n",
    "\n",
    "        cont = input(\"Draw another bounding box for the same label? (y/n): \")\n",
    "        if cont.lower() != 'y':\n",
    "            break  # Move to the next label\n"
   ]
  },
  {
   "cell_type": "code",
   "execution_count": 10,
   "metadata": {},
   "outputs": [
    {
     "name": "stdout",
     "output_type": "stream",
     "text": [
      "\n",
      "Segmenting the objects, this might take a while\n"
     ]
    }
   ],
   "source": [
    "print(\"\\nSegmenting the objects, this might take a while\")\n",
    "device = torch.device(\"cuda\" if torch.cuda.is_available() else \"cpu\")\n",
    "sam = sam_model_registry[\"vit_h\"](checkpoint=\"sam_vit_h_4b8939.pth\")\n",
    "# sam.to(device)\n",
    "mask_predictor = SamPredictor(sam)\n",
    "img2 = cv2.cvtColor(img, cv2.COLOR_BGR2RGB)\n",
    "mask_predictor.set_image(img2)\n",
    "\n",
    "for label in r:\n",
    "    for bbox in r[label][\"bounding_box\"]:\n",
    "        mask, _, _ = mask_predictor.predict(box=bbox, multimask_output=False)\n",
    "        r[label][\"masks\"].append(mask)\n",
    "\n"
   ]
  },
  {
   "cell_type": "code",
   "execution_count": 11,
   "metadata": {},
   "outputs": [
    {
     "data": {
      "image/png": "[encoded data removed]",
      "text/plain": [
       "<Figure size 640x480 with 1 Axes>"
      ]
     },
     "metadata": {},
     "output_type": "display_data"
    }
   ],
   "source": [
    "mask_visualization = np.zeros_like(img)\n",
    "\n",
    "for label in r:\n",
    "    color = (random.randint(0, 255), random.randint(0, 255), random.randint(0, 255))\n",
    "    for mask in r[label][\"masks\"]:\n",
    "        mask_visualization[mask[0]] = color\n",
    "\n",
    "plt.imshow(mask_visualization)\n",
    "plt.show()\n"
   ]
  }
 ],
 "metadata": {
  "kernelspec": {
   "display_name": "work",
   "language": "python",
   "name": "python3"
  },
  "language_info": {
   "codemirror_mode": {
    "name": "ipython",
    "version": 3
   },
   "file_extension": ".py",
   "mimetype": "text/x-python",
   "name": "python",
   "nbconvert_exporter": "python",
   "pygments_lexer": "ipython3",
   "version": "3.10.14"
  }
 },
 "nbformat": 4,
 "nbformat_minor": 2
}
